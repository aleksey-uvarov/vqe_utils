{
 "cells": [
  {
   "cell_type": "code",
   "execution_count": 3,
   "metadata": {
    "collapsed": false,
    "jupyter": {
     "outputs_hidden": false
    }
   },
   "outputs": [],
   "source": [
    "import numpy as np\n",
    "from qiskit import QuantumRegister, ClassicalRegister\n",
    "import time\n",
    "from scipy.optimize import minimize\n",
    "import matplotlib.pyplot as plt\n",
    "\n",
    "import sys\n",
    "sys.path.append('./vqe_utils-master/')\n",
    "import Entangler\n",
    "import TensorNetwork\n",
    "import hamiltonians\n",
    "import TNOptimize\n",
    "import uuid\n",
    "import json\n",
    "import utils"
   ]
  },
  {
   "cell_type": "markdown",
   "metadata": {},
   "source": [
    "## A self-contained example (minus the imports)"
   ]
  },
  {
   "cell_type": "code",
   "execution_count": 6,
   "metadata": {},
   "outputs": [
    {
     "name": "stdout",
     "output_type": "stream",
     "text": [
      "Exact energy -6.425177729100422\n",
      "VQE energy -6.362640461492915\n",
      "CPU times: user 24 s, sys: 584 ms, total: 24.5 s\n",
      "Wall time: 24.5 s\n"
     ]
    }
   ],
   "source": [
    "%%time\n",
    "#specify the ansatz\n",
    "n_qubits = 4\n",
    "depth = 3\n",
    "q, c = QuantumRegister(n_qubits), ClassicalRegister(n_qubits)\n",
    "ent = Entangler.RyCZ()\n",
    "TN = TensorNetwork.Checkerboard(q, c, ent, depth=depth)\n",
    "\n",
    "#specify the problem\n",
    "J = 1\n",
    "h = 1.4\n",
    "ham_dict = hamiltonians.ising_model(n_qubits, J, h)\n",
    "H = hamiltonians.explicit_hamiltonian(ham_dict)\n",
    "f = TNOptimize.build_objective_function(TN, explicit_H=H)\n",
    "\n",
    "#run VQE\n",
    "initial_guess = np.random.rand(TN.n_params)\n",
    "res = minimize(f, initial_guess, options={'maxiter': 100}, tol=1e-6)\n",
    "\n",
    "#compare the results\n",
    "w, v = np.linalg.eigh(H)\n",
    "print(\"Exact energy {0:}\".format(w[0]))\n",
    "print(\"VQE energy {0:}\".format(res.fun))"
   ]
  },
  {
   "cell_type": "markdown",
   "metadata": {},
   "source": [
    "### Initialize the tensor network"
   ]
  },
  {
   "cell_type": "code",
   "execution_count": null,
   "metadata": {},
   "outputs": [],
   "source": []
  },
  {
   "cell_type": "code",
   "execution_count": 2,
   "metadata": {
    "collapsed": true,
    "jupyter": {
     "outputs_hidden": true
    }
   },
   "outputs": [],
   "source": [
    "n_qubits = 6\n",
    "depth = 2\n",
    "q, c = QuantumRegister(n_qubits), ClassicalRegister(n_qubits)\n",
    "ent = Entangler.IsingEntangler()\n",
    "TN = TensorNetwork.Checkerboard(q, c, ent, depth=depth)\n",
    "TN_UCC = TensorNetwork.UCCSD(q, c)\n",
    "\n",
    "tol = 1e-7\n",
    "method = \"L-BFGS-B\""
   ]
  },
  {
   "cell_type": "markdown",
   "metadata": {},
   "source": [
    "### All code loop together"
   ]
  },
  {
   "cell_type": "code",
   "execution_count": 4,
   "metadata": {
    "collapsed": false,
    "jupyter": {
     "outputs_hidden": false
    }
   },
   "outputs": [
    {
     "name": "stdout",
     "output_type": "stream",
     "text": [
      "\n",
      "    ------ h = 0.00 -------\n",
      "    \n",
      "Elapsed time:  1.56\n",
      "0.7237068551775184\n",
      "3\n",
      "b'CONVERGENCE: NORM_OF_PROJECTED_GRADIENT_<=_PGTOL'\n",
      "\n",
      "    ------ h = 1.00 -------\n",
      "    \n",
      "Elapsed time:  0.19\n",
      "1.260844682565788\n",
      "1\n",
      "b'CONVERGENCE: NORM_OF_PROJECTED_GRADIENT_<=_PGTOL'\n",
      "\n",
      "    ------ h = 2.00 -------\n",
      "    \n",
      "Elapsed time:  0.10\n",
      "1.7979824808676705\n",
      "0\n",
      "b'CONVERGENCE: NORM_OF_PROJECTED_GRADIENT_<=_PGTOL'\n"
     ]
    }
   ],
   "source": [
    "#init params\n",
    "\n",
    "J = 1\n",
    "h_list = np.linspace(0, 2, num=3)\n",
    "#h_list = [1.4]\n",
    "\n",
    "start_vals = np.random.rand(TN.n_params) * 0.2\n",
    "\n",
    "for h in h_list:\n",
    "    print('''\n",
    "    ------ h = {0:0.2f} -------\n",
    "    '''.format(h))\n",
    "\n",
    "    ham_dict = hamiltonians.ising_model(n_qubits, J, h)\n",
    "    H = hamiltonians.explicit_hamiltonian(ham_dict)\n",
    "    f = TNOptimize.build_objective_function(TN, explicit_H=H)\n",
    "    \n",
    "    \n",
    "    n_iters = 0\n",
    "    start_time = time.time()\n",
    "    res = minimize(f, start_vals, options={'maxiter': 300}, callback=None, \n",
    "                   tol=tol, method=method)\n",
    "    time_spent = time.time() - start_time\n",
    "    print('Elapsed time: {0:5.2f}'.format(time_spent))\n",
    "    \n",
    "    circ = TN.construct_circuit(res.x)\n",
    "    state = utils.get_state(circ)\n",
    "    print(res.fun)\n",
    "    print(res.nit)\n",
    "    print(res.message)\n",
    "    \n",
    "    # Warm start\n",
    "    start_vals = res.x\n",
    "    \n",
    "    \n",
    "    \n",
    "\n",
    "    ############## PACK EVERYTHING INTO A JSON AND SAVE ##########\n",
    "    datetime = time.strftime(\"%Y-%m-%d_%H-%M-%S\")\n",
    "\n",
    "    problem = {'title': 'Ising model',\n",
    "               'n_qubits': n_qubits,\n",
    "               'h': h,\n",
    "               'J': J,\n",
    "               'Hamiltonian': ham_dict}\n",
    "\n",
    "    solution = {'n_qubits': n_qubits,\n",
    "                'TN': {'name': str(type(TN)),\n",
    "                       'depth': depth,\n",
    "                       'circuit': circ.qasm(),\n",
    "                       'n_params': TN.n_params,\n",
    "                       'params': res.x.tolist()},\n",
    "                'E': res.fun,\n",
    "                'state': utils.jsonize(state),\n",
    "                'optimizer': {'method': method,\n",
    "                              'n_iters': res.nit,\n",
    "                              'message': str(res.message),\n",
    "                              'time': time_spent,\n",
    "                              'tol': tol}\n",
    "                }\n",
    "\n",
    "    data_entry = {'id': str(uuid.uuid4()),\n",
    "                  'datetime': datetime,\n",
    "                  'problem': problem,\n",
    "                  'solution': solution,\n",
    "                  'comment': '''Warm start from previous function value. '''}\n",
    "\n",
    "    with open(('saved_states/TN_state_'\n",
    "               + datetime\n",
    "               + '.json'), 'w', encoding='utf-8') as out_file:\n",
    "        json.dump(data_entry, out_file, indent=2)\n",
    "    \n",
    "\n",
    "    \n",
    "    \n",
    "    \n",
    "    "
   ]
  },
  {
   "cell_type": "markdown",
   "metadata": {},
   "source": [
    "### Initialize the model and build a function that we will minimize"
   ]
  },
  {
   "cell_type": "code",
   "execution_count": 54,
   "metadata": {
    "collapsed": true,
    "jupyter": {
     "outputs_hidden": true
    }
   },
   "outputs": [],
   "source": [
    "J = 1\n",
    "h = 1.4\n",
    "ham_dict = hamiltonians.ising_model(n_qubits, J, h)\n",
    "H = hamiltonians.explicit_hamiltonian(ham_dict)\n",
    "\n",
    "f = TNOptimize.build_objective_function(TN, explicit_H=H)\n",
    "f_UCC = TNOptimize.build_objective_function(TN_UCC, explicit_H=H)"
   ]
  },
  {
   "cell_type": "code",
   "execution_count": 55,
   "metadata": {
    "collapsed": false,
    "jupyter": {
     "outputs_hidden": false
    }
   },
   "outputs": [
    {
     "name": "stdout",
     "output_type": "stream",
     "text": [
      "0.03506074530642117\n",
      "Elapsed time (UCC):  1.66\n",
      "10.43023615453291\n",
      "Elapsed time (Checkers):  0.11\n"
     ]
    }
   ],
   "source": [
    "initial_guess_UCC = np.random.rand(TN_UCC.n_params)\n",
    "start_time = time.time()\n",
    "print(f_UCC(initial_guess_UCC))\n",
    "time_spent = time.time() - start_time\n",
    "print('Elapsed time (UCC): {0:5.2f}'.format(time_spent))\n",
    "\n",
    "initial_guess = np.random.rand(TN.n_params)\n",
    "start_time = time.time()\n",
    "print(f(initial_guess))\n",
    "time_spent = time.time() - start_time\n",
    "print('Elapsed time (Checkers): {0:5.2f}'.format(time_spent))"
   ]
  },
  {
   "cell_type": "code",
   "execution_count": 3,
   "metadata": {
    "collapsed": true,
    "jupyter": {
     "outputs_hidden": true
    }
   },
   "outputs": [],
   "source": [
    "n_iters = 0\n",
    "def my_callback(xk):\n",
    "    global n_iters\n",
    "    n_iters += 1\n",
    "    print(\"iteration number: \", n_iters) # , \", f = {0:0.4f}\".format(f_UCC(xk)))"
   ]
  },
  {
   "cell_type": "code",
   "execution_count": 32,
   "metadata": {
    "collapsed": true,
    "jupyter": {
     "outputs_hidden": true
    }
   },
   "outputs": [],
   "source": []
  },
  {
   "cell_type": "markdown",
   "metadata": {},
   "source": [
    "### Minimize the objective function using `scipy.optimize.minimize`"
   ]
  },
  {
   "cell_type": "code",
   "execution_count": 46,
   "metadata": {
    "collapsed": false,
    "jupyter": {
     "outputs_hidden": false
    }
   },
   "outputs": [
    {
     "name": "stdout",
     "output_type": "stream",
     "text": [
      "Elapsed time: 1223.26\n"
     ]
    }
   ],
   "source": [
    "initial_guess = np.random.rand(TN.n_params)\n",
    "\n",
    "start_time = time.time()\n",
    "res = minimize(f, initial_guess, options={'maxiter': 300}, callback=None, tol=1e-6, method='L-BFGS-B')\n",
    "time_spent = time.time() - start_time\n",
    "print('Elapsed time: {0:5.2f}'.format(time_spent))"
   ]
  },
  {
   "cell_type": "code",
   "execution_count": 47,
   "metadata": {
    "collapsed": true,
    "jupyter": {
     "outputs_hidden": true
    }
   },
   "outputs": [
    {
     "data": {
      "text/plain": [
       "      fun: -9.539425499024464\n",
       " hess_inv: <75x75 LbfgsInvHessProduct with dtype=float64>\n",
       "      jac: array([-5.50492985e-04, -1.75663928e-03, -1.05409015e-03, -2.03641548e-03,\n",
       "        2.48689958e-06,  6.13091800e-03,  4.43023396e-04, -1.78346227e-04,\n",
       "        5.66515723e-03, -1.48965285e-03,  8.57625082e-04,  2.22506458e-03,\n",
       "        2.44853027e-03,  7.56017471e-04, -1.32693856e-04, -7.27951033e-04,\n",
       "        4.66187089e-03,  1.73994152e-03, -4.40536496e-05,  2.49080756e-03,\n",
       "        2.81836776e-03, -8.48565662e-04,  5.82023318e-03, -2.94626545e-03,\n",
       "       -2.13518092e-03,  1.30846445e-03,  1.50226498e-03, -1.52766688e-04,\n",
       "        3.39461792e-04, -1.40190082e-03,  6.53201937e-03, -1.76889614e-03,\n",
       "        1.20792265e-05,  2.91375812e-03, -1.12994059e-03, -4.72990536e-03,\n",
       "        4.06430445e-04,  1.09992015e-03,  2.87592172e-04,  1.06652465e-03,\n",
       "       -5.87974114e-04, -5.88329385e-04,  6.22080165e-04, -7.02549130e-04,\n",
       "        7.20135063e-04,  2.12274642e-03, -3.49587026e-04,  3.97548661e-03,\n",
       "       -1.84279259e-03, -2.68585154e-04,  5.54756241e-04, -4.15347756e-03,\n",
       "        2.15258922e-03,  9.62074864e-04, -2.77111667e-05, -9.75930448e-04,\n",
       "        3.28501670e-03, -5.93658456e-04,  7.22621962e-04, -3.08553183e-04,\n",
       "       -1.87192484e-03,  3.94919653e-03,  9.88720217e-04, -4.49773552e-04,\n",
       "       -1.64472880e-03,  1.83142390e-03, -5.87121463e-03, -2.94910762e-03,\n",
       "       -5.41788836e-05,  1.97708516e-04,  3.64082098e-03,  4.68158845e-03,\n",
       "       -4.67093031e-03, -9.27435906e-04, -2.35544917e-04])\n",
       "  message: b'STOP: TOTAL NO. of f AND g EVALUATIONS EXCEEDS LIMIT'\n",
       "     nfev: 15048\n",
       "      nit: 185\n",
       "   status: 1\n",
       "  success: False\n",
       "        x: array([ 8.93225749e-01,  3.14352202e-01, -2.98270612e-01,  1.40328509e+00,\n",
       "       -6.31458398e-01,  2.14563038e+00,  8.70951253e-01,  4.59257518e-01,\n",
       "       -1.38902530e-01, -9.68865526e-01,  6.06834986e-01,  1.24316243e+00,\n",
       "        8.43927491e-01,  7.67346500e-01,  3.78544302e-01, -2.54163374e-01,\n",
       "        1.06434472e+00, -4.11062836e-02, -5.58000875e-01,  1.22439903e+00,\n",
       "        1.24809034e+00,  1.35930401e+00,  1.57869304e+00, -2.80034305e-01,\n",
       "       -1.38778800e-01,  7.48900355e-01,  1.38377123e+00,  1.34393619e+00,\n",
       "        1.30941656e+00,  9.22419013e-01,  1.40004018e+00,  1.42272912e+00,\n",
       "        1.54416156e+00,  1.69910040e+00,  5.32161567e-03,  6.32144250e-01,\n",
       "        2.29296505e+00,  1.22539416e+00,  2.02050432e-02, -1.04677305e-02,\n",
       "        1.24724232e+00,  1.72592097e+00,  3.62959185e-01,  8.59736261e-01,\n",
       "       -6.77847037e-01, -1.66650380e-01,  1.06596544e-01, -1.59639365e+00,\n",
       "       -2.55013620e-02,  2.19155441e-01, -1.49099592e-02,  1.39576999e-01,\n",
       "        1.27068408e+00,  8.05546423e-02,  1.04159812e+00, -9.41743684e-03,\n",
       "        1.68234537e+00,  3.58044032e-01, -7.01814781e-01,  1.36884850e+00,\n",
       "        2.08095256e-02, -2.89250318e-01,  2.06444126e+00, -2.40250590e-01,\n",
       "       -9.16394852e-02,  2.81843808e-02,  1.56501244e+00,  2.19466361e-02,\n",
       "        4.64528647e-01,  1.90710084e-03,  2.00953610e-01,  8.44278172e-01,\n",
       "        1.56543584e+00, -6.33418214e-02, -2.19813277e-02])"
      ]
     },
     "execution_count": 47,
     "metadata": {},
     "output_type": "execute_result"
    }
   ],
   "source": [
    "res"
   ]
  },
  {
   "cell_type": "code",
   "execution_count": 48,
   "metadata": {
    "collapsed": true,
    "jupyter": {
     "outputs_hidden": true
    }
   },
   "outputs": [
    {
     "data": {
      "text/plain": [
       "array([ 8.93225749e-01,  3.14352202e-01, -2.98270612e-01,  1.40328509e+00,\n",
       "       -6.31458398e-01,  2.14563038e+00,  8.70951253e-01,  4.59257518e-01,\n",
       "       -1.38902530e-01, -9.68865526e-01,  6.06834986e-01,  1.24316243e+00,\n",
       "        8.43927491e-01,  7.67346500e-01,  3.78544302e-01, -2.54163374e-01,\n",
       "        1.06434472e+00, -4.11062836e-02, -5.58000875e-01,  1.22439903e+00,\n",
       "        1.24809034e+00,  1.35930401e+00,  1.57869304e+00, -2.80034305e-01,\n",
       "       -1.38778800e-01,  7.48900355e-01,  1.38377123e+00,  1.34393619e+00,\n",
       "        1.30941656e+00,  9.22419013e-01,  1.40004018e+00,  1.42272912e+00,\n",
       "        1.54416156e+00,  1.69910040e+00,  5.32161567e-03,  6.32144250e-01,\n",
       "        2.29296505e+00,  1.22539416e+00,  2.02050432e-02, -1.04677305e-02,\n",
       "        1.24724232e+00,  1.72592097e+00,  3.62959185e-01,  8.59736261e-01,\n",
       "       -6.77847037e-01, -1.66650380e-01,  1.06596544e-01, -1.59639365e+00,\n",
       "       -2.55013620e-02,  2.19155441e-01, -1.49099592e-02,  1.39576999e-01,\n",
       "        1.27068408e+00,  8.05546423e-02,  1.04159812e+00, -9.41743684e-03,\n",
       "        1.68234537e+00,  3.58044032e-01, -7.01814781e-01,  1.36884850e+00,\n",
       "        2.08095256e-02, -2.89250318e-01,  2.06444126e+00, -2.40250590e-01,\n",
       "       -9.16394852e-02,  2.81843808e-02,  1.56501244e+00,  2.19466361e-02,\n",
       "        4.64528647e-01,  1.90710084e-03,  2.00953610e-01,  8.44278172e-01,\n",
       "        1.56543584e+00, -6.33418214e-02, -2.19813277e-02])"
      ]
     },
     "execution_count": 48,
     "metadata": {},
     "output_type": "execute_result"
    }
   ],
   "source": [
    "res.x # parameters of the network"
   ]
  },
  {
   "cell_type": "markdown",
   "metadata": {},
   "source": [
    "### Attack the problem using the unitary coupled cluster"
   ]
  },
  {
   "cell_type": "code",
   "execution_count": 15,
   "metadata": {
    "collapsed": true,
    "jupyter": {
     "outputs_hidden": true
    }
   },
   "outputs": [],
   "source": [
    "u = [0.3459796 ,  0.1881438 ,  0.43668297,  0.33544372,  0.58386988,\n",
    "     1.28384011,  0.12040493,  0.46235707,  0.90650791,  0.47911129,\n",
    "     0.75070291,  0.41647268,  0.12686378,  0.73158246,  0.95909617,\n",
    "        0.89446071, -0.14138742,  0.65298177,  0.50326844,  0.56655752,\n",
    "        0.07699172,  0.73290532,  1.04215793,  0.41971287,  0.46128677,\n",
    "        0.11670666,  0.44174015,  0.10067137, -0.13700442,  0.2397051 ,\n",
    "        0.35481272,  0.49468465,  0.39846009,  0.17959881,  0.42988137,\n",
    "        0.56426357,  0.5604773 , -0.09674341,  0.13266187,  0.62295265,\n",
    "        1.07880004,  0.41143078,  0.33357574,  0.35628562, -0.31656568,\n",
    "        0.34138884, -0.08504385,  1.02617222,  0.14877449,  0.4058248 ,\n",
    "        0.60268936,  0.47883013,  0.46631509,  0.37011117,  0.37441209,\n",
    "        0.64153443,  0.48385105,  0.67036198,  1.02656032,  0.38497947,\n",
    "        0.49395253,  1.08803193, -0.43112839,  0.61908109, -0.62300815,\n",
    "        0.12788859,  0.74795541,  0.88781853, -1.4781325 ,  0.71087901,\n",
    "        0.72470435,  0.70215431,  0.76330661,  0.10715642,  0.5563262 ,\n",
    "        0.31461813,  1.09263033, -0.68533491,  1.17143661,  0.47699914,\n",
    "       -0.02072033,  0.75188866, -0.3578969 , -0.08574258,  0.51519326,\n",
    "       -0.06773303,  1.53664408,  0.03580986,  0.50118135,  1.75627204,\n",
    "        1.76238346,  1.11824534,  0.74446303,  0.48293034,  0.63035599,\n",
    "       -0.78819018,  0.47353042,  1.30494639,  0.56483804,  1.18536922,\n",
    "       -0.77994623,  0.35772214,  1.03337631, -0.0266532 ,  0.42755639,\n",
    "        0.58588125,  0.68642275,  0.37761533,  0.0586069 ,  0.56688103,\n",
    "        0.88463212,  0.75903077,  0.89218869,  0.56639536,  0.93964048,\n",
    "        0.79808512,  0.21291738, -0.07686197, -0.08359217,  1.2766838 ,\n",
    "        0.73855921, -0.10239705,  0.75149293,  0.46440844,  1.09594198,\n",
    "        0.67364488,  0.27854642,  0.77677523,  1.0681138 ,  0.46121453,\n",
    "        0.79265738,  0.12110635,  0.75173654,  0.30675003, -0.03228069,\n",
    "        0.99621482,  1.17519869,  0.11128786,  0.42632439,  1.24177216,\n",
    "        0.77727181,  1.23824438, -0.02403463,  0.37073725, -0.14286294,\n",
    "        0.63273043,  1.05556028,  1.03549292, -0.05293927,  0.48877569,\n",
    "        0.19862382, -0.40321137,  1.05522313,  0.63367991,  0.97141938,\n",
    "        1.09539006,  0.1138089 ,  0.44005676,  0.98565867,  0.13730818,\n",
    "        1.18987905,  1.47569574, -0.29696842,  0.88049558,  0.2417701 ,\n",
    "       -0.0776904 ,  0.05184482,  0.66308837,  0.21098826, -0.03880141,\n",
    "        0.27592626,  0.82207614,  0.40923972,  0.02537691,  0.74568892,\n",
    "        0.80708786,  0.74168328,  0.30425446,  0.56184231,  0.48899616,\n",
    "        0.96792436,  0.51462362,  0.24965156,  0.4625598 ,  0.57868485,\n",
    "        0.5015464 ,  0.64298487,  0.84139796,  0.86907525,  0.47483399,\n",
    "        0.19761158,  0.39690963,  0.68048882,  0.31713468,  0.43899854,\n",
    "        0.75082778,  0.95499483,  0.74729031]"
   ]
  },
  {
   "cell_type": "code",
   "execution_count": null,
   "metadata": {
    "collapsed": true,
    "jupyter": {
     "outputs_hidden": true
    }
   },
   "outputs": [],
   "source": []
  },
  {
   "cell_type": "code",
   "execution_count": 21,
   "metadata": {
    "collapsed": false,
    "jupyter": {
     "outputs_hidden": false
    }
   },
   "outputs": [
    {
     "name": "stdout",
     "output_type": "stream",
     "text": [
      "iteration number:  76\n",
      "iteration number:  77\n",
      "iteration number:  78\n",
      "iteration number:  79\n",
      "iteration number:  80\n",
      "iteration number:  81\n",
      "iteration number:  82\n",
      "iteration number:  83\n",
      "iteration number:  84\n",
      "iteration number:  85\n",
      "iteration number:  86\n",
      "iteration number:  87\n",
      "iteration number:  88\n",
      "iteration number:  89\n",
      "iteration number:  90\n",
      "iteration number:  91\n",
      "iteration number:  92\n",
      "iteration number:  93\n",
      "iteration number:  94\n",
      "iteration number:  95\n",
      "iteration number:  96\n",
      "iteration number:  97\n",
      "iteration number:  98\n",
      "iteration number:  99\n",
      "iteration number:  100\n",
      "iteration number:  101\n",
      "iteration number:  102\n",
      "iteration number:  103\n",
      "iteration number:  104\n",
      "iteration number:  105\n",
      "iteration number:  106\n",
      "iteration number:  107\n",
      "iteration number:  108\n",
      "iteration number:  109\n",
      "iteration number:  110\n",
      "iteration number:  111\n",
      "iteration number:  112\n",
      "iteration number:  113\n",
      "iteration number:  114\n",
      "iteration number:  115\n",
      "iteration number:  116\n",
      "iteration number:  117\n",
      "iteration number:  118\n",
      "iteration number:  119\n",
      "iteration number:  120\n",
      "iteration number:  121\n",
      "iteration number:  122\n",
      "iteration number:  123\n",
      "iteration number:  124\n",
      "iteration number:  125\n",
      "iteration number:  126\n",
      "iteration number:  127\n",
      "iteration number:  128\n",
      "iteration number:  129\n",
      "iteration number:  130\n",
      "iteration number:  131\n",
      "iteration number:  132\n",
      "iteration number:  133\n",
      "iteration number:  134\n",
      "iteration number:  135\n",
      "iteration number:  136\n",
      "iteration number:  137\n",
      "iteration number:  138\n",
      "iteration number:  139\n",
      "iteration number:  140\n",
      "iteration number:  141\n",
      "iteration number:  142\n",
      "iteration number:  143\n",
      "iteration number:  144\n",
      "iteration number:  145\n",
      "iteration number:  146\n",
      "Elapsed time: 7439.68\n",
      "-9.544878436036479\n"
     ]
    }
   ],
   "source": [
    "initial_guess = np.random.rand(TN_UCC.n_params)\n",
    "\n",
    "start_time = time.time()\n",
    "res_UCC = minimize(f_UCC, u, options={'maxiter': 200}, callback=my_callback, tol=1e-6, method='L-BFGS-B')\n",
    "time_spent = time.time() - start_time\n",
    "print('Elapsed time: {0:5.2f}'.format(time_spent))\n",
    "print(res_UCC.fun)"
   ]
  },
  {
   "cell_type": "code",
   "execution_count": 9,
   "metadata": {
    "collapsed": false,
    "jupyter": {
     "outputs_hidden": false
    }
   },
   "outputs": [
    {
     "name": "stdout",
     "output_type": "stream",
     "text": [
      "-9.545045186933953\n"
     ]
    }
   ],
   "source": [
    "w, v = np.linalg.eigh(H)\n",
    "print(w[0])"
   ]
  },
  {
   "cell_type": "markdown",
   "metadata": {},
   "source": [
    "### Construct the state that delivers this minimum"
   ]
  },
  {
   "cell_type": "code",
   "execution_count": 34,
   "metadata": {
    "collapsed": true,
    "jupyter": {
     "outputs_hidden": true
    }
   },
   "outputs": [],
   "source": [
    "from qiskit import Aer, execute\n",
    "sv_backend = Aer.get_backend(\"statevector_simulator\")\n",
    "\n",
    "def get_state(circ):\n",
    "    job = execute(circ, sv_backend)\n",
    "    result = job.result()\n",
    "    state = result.get_statevector(circ)\n",
    "    return state"
   ]
  },
  {
   "cell_type": "code",
   "execution_count": 35,
   "metadata": {
    "collapsed": false,
    "jupyter": {
     "outputs_hidden": false
    }
   },
   "outputs": [
    {
     "name": "stdout",
     "output_type": "stream",
     "text": [
      "[-0.03781586-0.00731101j  0.07644851+0.01533371j  0.06820375+0.01350147j\n",
      " -0.07239399-0.01372635j  0.08720236+0.01454495j -0.14510867-0.02760466j\n",
      " -0.08303497-0.01577489j  0.07094538+0.01385552j  0.06955641+0.01123374j\n",
      " -0.14040041-0.02276286j -0.12733268-0.02330309j  0.13429993+0.02212136j\n",
      " -0.08367982-0.01195539j  0.13819057+0.02104669j  0.07930573+0.01281155j\n",
      " -0.06705836-0.01014078j  0.07789746+0.01399055j -0.17847831-0.03298345j\n",
      " -0.13799466-0.02546644j  0.16896268+0.02876292j -0.14555903-0.02491967j\n",
      "  0.27709614+0.05306646j  0.13548354+0.0254304j  -0.13445131-0.02472636j\n",
      " -0.07506179-0.01102011j  0.17367402+0.02655737j  0.1343834 +0.02192591j\n",
      " -0.16580256-0.02453626j  0.0724565 +0.01209916j -0.1383911 -0.02511042j\n",
      " -0.06683151-0.01178928j  0.06647863+0.01094606j  0.06649922+0.01295131j\n",
      " -0.06708729-0.0110131j  -0.13472557-0.0233449j   0.07077744+0.01224732j\n",
      " -0.16413547-0.02574477j  0.1345316 +0.02143153j  0.1723019 +0.0279103j\n",
      " -0.0752781 -0.01414883j -0.1325656 -0.02612625j  0.13552489+0.0225213j\n",
      "  0.27228566+0.05211839j -0.14421677-0.02712876j  0.16891861+0.02929179j\n",
      " -0.13907005-0.02352304j -0.17629652-0.03034965j  0.07724188+0.01481441j\n",
      " -0.06848798-0.01135177j  0.07971254+0.01147007j  0.13887184+0.01902536j\n",
      " -0.0831429 -0.01194848j  0.13661273+0.02296923j -0.12840016-0.0226237j\n",
      " -0.14257543-0.02311102j  0.07030462+0.01326166j  0.0695421 +0.01381718j\n",
      " -0.08131011-0.01386199j -0.14255175-0.02618445j  0.08539943+0.015572j\n",
      " -0.07300149-0.01629651j  0.06822975+0.0149584j   0.07567805+0.01595098j\n",
      " -0.037057  -0.00838759j]\n"
     ]
    }
   ],
   "source": [
    "circ = TN.construct_circuit(res.x)\n",
    "state = get_state(circ)\n",
    "print(state)"
   ]
  },
  {
   "cell_type": "code",
   "execution_count": 12,
   "metadata": {
    "collapsed": false,
    "jupyter": {
     "outputs_hidden": false
    }
   },
   "outputs": [
    {
     "name": "stdout",
     "output_type": "stream",
     "text": [
      "[-0.03716488+3.79956192e-03j  0.07787749+1.54902388e-03j\n",
      "  0.06731807-9.14466828e-03j -0.06521603+4.04714809e-03j\n",
      "  0.07928421-6.74227977e-05j -0.18142754-7.49454853e-03j\n",
      " -0.06408793+9.52640127e-04j  0.07594844+6.90439840e-04j\n",
      "  0.06355837-3.66843160e-03j -0.12408447+1.47519031e-02j\n",
      " -0.12876905+3.57337113e-02j  0.12509572-2.22421069e-02j\n",
      " -0.07240907+2.44949110e-03j  0.13991723-1.98878111e-03j\n",
      "  0.06703237-1.48683010e-02j -0.06767952+8.09022664e-03j\n",
      "  0.07534093-2.40640437e-03j -0.17090452-7.99501469e-03j\n",
      " -0.1313426 +2.67885291e-03j  0.14017371-5.03520272e-03j\n",
      " -0.18129826-7.37226823e-03j  0.42669104+1.94630113e-02j\n",
      "  0.15246503-5.44697579e-03j -0.17784891-6.68464735e-04j\n",
      " -0.06085326+3.24982492e-03j  0.1310595 -1.29740384e-02j\n",
      "  0.12319289-1.69800886e-02j -0.12469588+1.34770790e-02j\n",
      "  0.0778373 -1.36956606e-03j -0.16693857-2.45487702e-04j\n",
      " -0.07068602+8.58694516e-03j  0.08471263-3.31267319e-03j\n",
      "  0.06613889-7.80547511e-03j -0.06720513+2.25459967e-03j\n",
      " -0.13666986+2.61980591e-02j  0.06687993-7.47324572e-03j\n",
      " -0.11215761+2.81608001e-03j  0.13117388-7.56014207e-03j\n",
      "  0.11518449-1.10034186e-02j -0.06803099+3.95062516e-03j\n",
      " -0.13404119+2.74887117e-02j  0.11052379-1.66419610e-02j\n",
      "  0.28387652-7.97996409e-02j -0.12819152+3.07217094e-02j\n",
      "  0.11253133-1.49561005e-02j -0.11077252+1.58238737e-02j\n",
      " -0.12552265+3.05794124e-02j  0.06840638-1.31798861e-02j\n",
      " -0.06231925+7.88721010e-03j  0.07355042-1.47050429e-03j\n",
      "  0.11330296-1.57730995e-02j -0.06573519+8.05611365e-03j\n",
      "  0.12847359+2.85909984e-03j -0.17052675-1.00536770e-02j\n",
      " -0.12058161+5.98568307e-03j  0.08131012-5.31855284e-03j\n",
      "  0.06109584-1.26176641e-02j -0.06752785+1.14033727e-02j\n",
      " -0.13144027+3.19150797e-02j  0.06893905-1.39615259e-02j\n",
      " -0.06864776+1.35360737e-02j  0.07321183-3.07807552e-03j\n",
      "  0.0710097 -1.63711877e-02j -0.04037333+7.42544548e-03j]\n"
     ]
    }
   ],
   "source": [
    "circ_UCC = TN_UCC.construct_circuit(res_UCC.x)\n",
    "state_UCC = get_state(circ_UCC)\n",
    "print(state_UCC)"
   ]
  },
  {
   "cell_type": "code",
   "execution_count": 2,
   "metadata": {
    "collapsed": true,
    "jupyter": {
     "outputs_hidden": true
    }
   },
   "outputs": [],
   "source": [
    "res_UCC_data = \"\"\"fun: -9.544878436036479\n",
    " hess_inv: <198x198 LbfgsInvHessProduct with dtype=float64>\n",
    "      jac: array([ 3.11928261e-04, -4.74642547e-04, -2.32525110e-04,  8.64019967e-04,\n",
    "        1.43369761e-03, -8.22453217e-05,  5.70210545e-04, -8.78586093e-04,\n",
    "       -3.11217718e-04,  1.06048503e-04,  1.02353681e-03,  3.53495011e-04,\n",
    "        6.43929354e-04, -4.47997195e-04, -5.76605430e-04,  2.83684187e-04,\n",
    "        3.85469434e-05,  5.04485342e-05, -7.89057708e-04, -7.08588743e-04,\n",
    "        3.65218966e-04,  1.05515596e-03, -1.76925141e-04, -7.88524801e-04,\n",
    "       -1.08357767e-04,  1.17061916e-04,  2.18136620e-04, -1.27808875e-03,\n",
    "       -7.08588743e-04, -1.09245946e-04,  2.94697600e-04,  8.68638494e-04,\n",
    "        8.73967565e-05,  3.65041330e-04,  1.17417187e-04,  2.94342328e-04,\n",
    "        5.94724270e-04,  4.84412510e-04,  1.05515596e-03,  2.18491891e-04,\n",
    "        8.68105587e-04,  5.95612448e-04, -1.52766688e-04, -1.76925141e-04,\n",
    "       -1.27737820e-03,  8.73967565e-05,  4.84945417e-04, -1.52589053e-04,\n",
    "        8.08952905e-04, -6.60094202e-04, -2.30038211e-03, -5.46940271e-04,\n",
    "       -1.16440191e-03, -1.00452979e-03,  4.00213196e-04, -1.05853104e-03,\n",
    "       -1.88116189e-04,  5.07682785e-04, -8.67750316e-04,  6.27053964e-04,\n",
    "        5.25623989e-04, -2.10853557e-04, -6.21547258e-04, -5.63282754e-04,\n",
    "        2.39275266e-04, -3.52251561e-04, -2.82618373e-04, -7.99360578e-05,\n",
    "        2.32347475e-04, -1.15800702e-03,  1.08606457e-03,  6.87805368e-04,\n",
    "        3.82982535e-04,  1.93622895e-05,  6.14441831e-04, -9.11803966e-04,\n",
    "        1.74615877e-04, -2.46380694e-04, -1.33866251e-03, -6.67732536e-04,\n",
    "       -3.42126327e-04, -1.14486198e-03, -1.61275437e-03, -7.17648163e-05,\n",
    "        5.34505773e-04, -7.96518407e-04, -3.56337182e-04,  4.58300065e-04,\n",
    "       -2.49400500e-04, -6.25455243e-04, -2.48547849e-03,  2.79420931e-04,\n",
    "        9.17133036e-04,  2.24709140e-04,  2.11102247e-03, -2.89723801e-04,\n",
    "        9.74509362e-04, -7.72715225e-04, -2.94519964e-04, -3.43014506e-04,\n",
    "        6.42330633e-04,  5.79447601e-04, -8.65973959e-04, -4.29167812e-04,\n",
    "       -1.73123738e-03,  8.26894109e-04, -4.93116659e-04,  1.17594823e-04,\n",
    "       -2.43360887e-05,  9.04698538e-04, -2.61834998e-04,  1.15463195e-05,\n",
    "        8.85513884e-04, -2.46913601e-05,  5.13544762e-04,  1.18571819e-03,\n",
    "       -5.05728792e-04, -1.55786495e-04,  9.05231445e-04,  5.13367127e-04,\n",
    "       -7.25819405e-04,  2.90434343e-04, -1.04982689e-04, -2.61834998e-04,\n",
    "        1.18571819e-03, -7.25641769e-04, -1.82609483e-04, -6.61692923e-04,\n",
    "        1.11910481e-05, -5.06084064e-04,  2.89901436e-04, -1.82964754e-04,\n",
    "        3.71791486e-04,  8.85691520e-04, -1.55786495e-04, -1.05337961e-04,\n",
    "       -6.61870558e-04,  3.71791486e-04, -1.43280943e-03, -2.21866969e-04,\n",
    "       -3.95417032e-04,  8.79296636e-05, -4.80504525e-04,  3.06421555e-04,\n",
    "        6.82298662e-04,  1.78523862e-04,  8.41460235e-04,  9.46798195e-04,\n",
    "        1.22284405e-03,  2.21866969e-04,  2.27551311e-04, -1.06901155e-03,\n",
    "       -1.45998769e-03, -1.68753900e-04, -7.93143329e-04, -6.19770901e-04,\n",
    "        9.19442300e-04,  2.60058641e-04, -1.76392234e-04, -1.03383968e-03,\n",
    "        1.34470213e-04, -2.19912977e-04, -5.47117907e-04,  1.38538070e-03,\n",
    "       -5.52446977e-05, -1.18483001e-04, -7.30437932e-04,  8.83382256e-04,\n",
    "       -5.16919840e-05, -6.05737682e-04,  6.84430290e-04,  1.56852309e-04,\n",
    "        5.77315973e-05, -5.16919840e-05, -1.00701669e-03, -4.64162042e-04,\n",
    "        5.36459765e-05,  1.45483625e-04, -6.05560047e-04, -1.00683906e-03,\n",
    "        3.62732067e-04,  2.61302091e-04,  2.56328292e-04,  6.84430290e-04,\n",
    "       -4.63984406e-04,  3.62732067e-04, -1.98596695e-04,  5.43565193e-05,\n",
    "        1.56852309e-04,  5.36459765e-05,  2.61302091e-04, -1.98596695e-04,\n",
    "        2.83328916e-04,  5.79092330e-05,  1.45483625e-04,  2.56150656e-04,\n",
    "        5.43565193e-05,  2.83328916e-04])\n",
    "  message: b'CONVERGENCE: REL_REDUCTION_OF_F_<=_FACTR*EPSMCH'\n",
    "     nfev: 14726\n",
    "      nit: 71\n",
    "   status: 0\n",
    "  success: True\n",
    "        x: array([ 0.32462166,  0.25127747,  0.46318922,  0.31958361,  0.58673205,\n",
    "        1.29822455,  0.13063281,  0.36477223,  0.89128756,  0.52378377,\n",
    "        0.764261  ,  0.39559835,  0.09926025,  1.03446439,  1.00222291,\n",
    "        0.93305552,  0.01011956,  0.83792206,  0.54092217,  0.44262435,\n",
    "        0.09138988,  0.82840496,  1.06211512,  0.4573768 ,  0.43720757,\n",
    "        0.14791063,  0.4743797 ,  0.05666393, -0.26095814,  0.21560475,\n",
    "        0.23130754,  0.49689457,  0.43287832,  0.19396765,  0.46106994,\n",
    "        0.44076957,  0.55169209, -0.08087322,  0.22814359,  0.65559858,\n",
    "        1.08099349,  0.40265222,  0.37316207,  0.3762421 , -0.36056563,\n",
    "        0.37580445, -0.0691726 ,  1.06576431,  0.1645105 ,  0.3365082 ,\n",
    "        0.56745787,  0.66564823,  0.72505696,  0.48259136,  0.33358149,\n",
    "        0.73407482,  0.47025753,  0.67297585,  1.32117443,  0.35278988,\n",
    "        0.74426396,  1.07827079, -0.68521745,  0.68765817, -0.83986703,\n",
    "       -0.01261421,  0.66526979,  0.97115925, -1.57681663,  0.55294961,\n",
    "        0.71613408,  0.71280723,  0.75338557, -0.00200269,  0.4419698 ,\n",
    "        0.33277823,  0.93847094, -0.70614156,  1.24051337,  0.34142015,\n",
    "       -0.14624319,  0.63386863, -0.42599612, -0.21750406,  0.59148169,\n",
    "       -0.00244842,  1.63715284,  0.20926017,  0.42216774,  1.88031511,\n",
    "        1.79919129,  1.16826316,  0.75386115,  0.43497924,  0.8082182 ,\n",
    "       -0.84085088,  0.62156614,  1.18574731,  0.60235081,  1.40963646,\n",
    "       -0.83235076,  0.28534376,  1.03385433,  0.06030411,  0.33082179,\n",
    "        0.64803151,  0.75074948,  0.17291431,  0.09380416,  0.49101734,\n",
    "        0.82225371,  0.69287402,  0.90152798,  0.6015995 ,  1.03020408,\n",
    "        0.87595849,  0.26964296, -0.16678451, -0.15944704,  1.36725326,\n",
    "        0.617903  , -0.20279363,  0.86096053,  0.4020236 ,  1.17381166,\n",
    "        0.55299053,  0.25222573,  0.81462107,  1.00196071,  0.51794511,\n",
    "        0.69226478,  0.09478675,  0.85121458,  0.31609756, -0.12220367,\n",
    "        1.10567576,  1.21304744,  0.21076685,  0.40259053,  1.30353654,\n",
    "        0.7456082 ,  1.53408064, -0.15903044,  0.30693771, -0.32788891,\n",
    "        0.49400125,  1.22354555,  1.07221443, -0.03123931,  0.49308244,\n",
    "        0.11529952, -0.48937255,  1.02954141,  0.72845032,  1.15618258,\n",
    "        1.20298074,  0.10854127,  0.74421976,  0.76157504,  0.32214089,\n",
    "        1.22365702,  1.58101311, -0.36168485,  0.82248481,  0.19909302,\n",
    "       -0.03653638,  0.26912634,  0.64776891,  0.25556156, -0.105532  ,\n",
    "        0.18778428,  0.81669242,  0.28382102,  0.06995148,  0.72658958,\n",
    "        0.67289082,  0.70171882,  0.20930646,  0.49511351,  0.46989216,\n",
    "        1.06655952,  0.67012285,  0.26475771,  0.37441906,  0.44449044,\n",
    "        0.60018233,  0.68475192,  0.74677735,  0.86368774,  0.43486974,\n",
    "        0.35311331,  0.43868039,  0.77147887,  0.19172037,  0.3440491 ,\n",
    "        0.76593999,  0.86037478,  0.83827933])\"\"\""
   ]
  },
  {
   "cell_type": "code",
   "execution_count": null,
   "metadata": {
    "collapsed": true,
    "jupyter": {
     "outputs_hidden": true
    }
   },
   "outputs": [],
   "source": [
    "res.nit"
   ]
  },
  {
   "cell_type": "markdown",
   "metadata": {},
   "source": [
    "### PACK EVERYTHING INTO A JSON AND SAVE\n",
    "\n",
    "В этом блоке кое-что нужно править руками"
   ]
  },
  {
   "cell_type": "code",
   "execution_count": 33,
   "metadata": {
    "collapsed": true,
    "jupyter": {
     "outputs_hidden": true
    }
   },
   "outputs": [],
   "source": [
    "circ = TN.construct_circuit(res.x)"
   ]
  },
  {
   "cell_type": "code",
   "execution_count": 44,
   "metadata": {
    "collapsed": true,
    "jupyter": {
     "outputs_hidden": true
    }
   },
   "outputs": [],
   "source": [
    "datetime = time.strftime(\"%Y-%m-%d_%H-%M-%S\")\n",
    "\n",
    "problem = {'title': 'Ising model',\n",
    "           'n_qubits': n_qubits,\n",
    "           'h': h,\n",
    "           'J': J,\n",
    "           'Hamiltonian': ham_dict}\n",
    "\n",
    "solution = {'n_qubits': n_qubits,\n",
    "             'TN': {'name': str(type(TN)),\n",
    "                    'depth': depth,\n",
    "                    'circuit': circ.qasm(),\n",
    "                    'n_params': TN.n_params,\n",
    "                    'params': res.x.tolist()},\n",
    "            'E': res.fun,\n",
    "            'state': jsonize(state),\n",
    "             'optimizer': {'method': \"L-BFGS-B\",\n",
    "                           'n_iters': res.nit,\n",
    "                           'message': str(res.message),\n",
    "                           'time': 642.70,\n",
    "                           'tol': 1e-6}\n",
    "            }\n",
    "\n",
    "data_entry = {'id': str(uuid.uuid4()),\n",
    "              'datetime': datetime,\n",
    "              'problem': problem,\n",
    "              'solution': solution,\n",
    "              'comment': 'From notebook'}\n",
    "\n",
    "with open(('saved_states/TN_state_'\n",
    "           + datetime\n",
    "           + '.json'), 'w', encoding='utf-8') as out_file:\n",
    "    json.dump(data_entry, out_file, indent=2)\n"
   ]
  },
  {
   "cell_type": "code",
   "execution_count": 50,
   "metadata": {
    "collapsed": false,
    "jupyter": {
     "outputs_hidden": false
    }
   },
   "outputs": [
    {
     "data": {
      "text/plain": [
       "<matplotlib.collections.PathCollection at 0x7f2dcd20c400>"
      ]
     },
     "execution_count": 50,
     "metadata": {},
     "output_type": "execute_result"
    }
   ],
   "source": [
    "%matplotlib tk\n",
    "\n",
    "nq = [3, 4, 6]\n",
    "ts = [137, 1042, 15141]\n",
    "nql = np.log(nq)\n",
    "tsl = np.log(ts)\n",
    "plt.scatter(nql, tsl)"
   ]
  },
  {
   "cell_type": "code",
   "execution_count": 51,
   "metadata": {
    "collapsed": true,
    "jupyter": {
     "outputs_hidden": true
    }
   },
   "outputs": [],
   "source": [
    "from scipy import stats\n",
    "slope, intercept, r_value, p_value, std_err = stats.linregress(nql, tsl)"
   ]
  },
  {
   "cell_type": "code",
   "execution_count": 52,
   "metadata": {
    "collapsed": false,
    "jupyter": {
     "outputs_hidden": false
    }
   },
   "outputs": [
    {
     "data": {
      "text/plain": [
       "6.775823717299451"
      ]
     },
     "execution_count": 52,
     "metadata": {},
     "output_type": "execute_result"
    }
   ],
   "source": [
    "slope"
   ]
  },
  {
   "cell_type": "code",
   "execution_count": null,
   "metadata": {
    "collapsed": true,
    "jupyter": {
     "outputs_hidden": true
    }
   },
   "outputs": [],
   "source": []
  },
  {
   "cell_type": "code",
   "execution_count": null,
   "metadata": {
    "collapsed": true,
    "jupyter": {
     "outputs_hidden": true
    }
   },
   "outputs": [],
   "source": []
  }
 ],
 "metadata": {
  "anaconda-cloud": {},
  "kernelspec": {
   "display_name": "Python 3",
   "language": "python",
   "name": "python3"
  },
  "language_info": {
   "codemirror_mode": {
    "name": "ipython",
    "version": 3
   },
   "file_extension": ".py",
   "mimetype": "text/x-python",
   "name": "python",
   "nbconvert_exporter": "python",
   "pygments_lexer": "ipython3",
   "version": "3.6.9"
  }
 },
 "nbformat": 4,
 "nbformat_minor": 4
}
